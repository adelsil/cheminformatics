{
 "cells": [
  {
   "cell_type": "markdown",
   "id": "33c7978f-3a62-4c35-b11b-4c3e86c1c4ae",
   "metadata": {},
   "source": [
    "# Excercise 1\n"
   ]
  },
  {
   "cell_type": "code",
   "execution_count": 7,
   "id": "47dc6156-5187-4e15-b2d8-2ca81d1801b0",
   "metadata": {},
   "outputs": [
    {
     "name": "stdout",
     "output_type": "stream",
     "text": [
      "Requirement already satisfied: pandas in /Library/Frameworks/Python.framework/Versions/3.9/lib/python3.9/site-packages (2.2.3)\n",
      "Requirement already satisfied: numpy>=1.22.4 in /Library/Frameworks/Python.framework/Versions/3.9/lib/python3.9/site-packages (from pandas) (1.24.3)\n",
      "Requirement already satisfied: python-dateutil>=2.8.2 in /Library/Frameworks/Python.framework/Versions/3.9/lib/python3.9/site-packages (from pandas) (2.9.0.post0)\n",
      "Requirement already satisfied: pytz>=2020.1 in /Library/Frameworks/Python.framework/Versions/3.9/lib/python3.9/site-packages (from pandas) (2024.1)\n",
      "Requirement already satisfied: tzdata>=2022.7 in /Library/Frameworks/Python.framework/Versions/3.9/lib/python3.9/site-packages (from pandas) (2024.1)\n",
      "Requirement already satisfied: six>=1.5 in /Library/Frameworks/Python.framework/Versions/3.9/lib/python3.9/site-packages (from python-dateutil>=2.8.2->pandas) (1.16.0)\n",
      "Collecting rdkit\n",
      "  Downloading rdkit-2024.9.5-cp39-cp39-macosx_11_0_arm64.whl.metadata (4.0 kB)\n",
      "Requirement already satisfied: numpy in /Library/Frameworks/Python.framework/Versions/3.9/lib/python3.9/site-packages (from rdkit) (1.24.3)\n",
      "Requirement already satisfied: Pillow in /Library/Frameworks/Python.framework/Versions/3.9/lib/python3.9/site-packages (from rdkit) (10.3.0)\n",
      "Downloading rdkit-2024.9.5-cp39-cp39-macosx_11_0_arm64.whl (27.7 MB)\n",
      "\u001b[2K   \u001b[90m━━━━━━━━━━━━━━━━━━━━━━━━━━━━━━━━━━━━━━━━\u001b[0m \u001b[32m27.7/27.7 MB\u001b[0m \u001b[31m29.5 MB/s\u001b[0m eta \u001b[36m0:00:00\u001b[0ma \u001b[36m0:00:01\u001b[0m\n",
      "Installing collected packages: rdkit\n",
      "Successfully installed rdkit-2024.9.5\n"
     ]
    }
   ],
   "source": [
    "!pip install pandas\n",
    "!pip install rdkit"
   ]
  },
  {
   "cell_type": "code",
   "execution_count": 14,
   "id": "bfe1f687-9eb5-4415-8ceb-8f80b83daa72",
   "metadata": {},
   "outputs": [
    {
     "data": {
      "text/html": [
       "<div>\n",
       "<style scoped>\n",
       "    .dataframe tbody tr th:only-of-type {\n",
       "        vertical-align: middle;\n",
       "    }\n",
       "\n",
       "    .dataframe tbody tr th {\n",
       "        vertical-align: top;\n",
       "    }\n",
       "\n",
       "    .dataframe thead th {\n",
       "        text-align: right;\n",
       "    }\n",
       "</style>\n",
       "<table border=\"1\" class=\"dataframe\">\n",
       "  <thead>\n",
       "    <tr style=\"text-align: right;\">\n",
       "      <th></th>\n",
       "      <th>Ambit_InchiKey</th>\n",
       "      <th>Original_Entry_ID</th>\n",
       "      <th>Entrez_ID</th>\n",
       "      <th>Activity_Flag</th>\n",
       "      <th>pXC50</th>\n",
       "      <th>DB</th>\n",
       "      <th>Original_Assay_ID</th>\n",
       "      <th>Tax_ID</th>\n",
       "      <th>Gene_Symbol</th>\n",
       "      <th>Ortholog_Group</th>\n",
       "      <th>SMILES</th>\n",
       "    </tr>\n",
       "  </thead>\n",
       "  <tbody>\n",
       "    <tr>\n",
       "      <th>0</th>\n",
       "      <td>CWYBNSVSYKQGJB-UHFFFAOYNA-N</td>\n",
       "      <td>71541095</td>\n",
       "      <td>6532</td>\n",
       "      <td>A</td>\n",
       "      <td>6.85387</td>\n",
       "      <td>pubchem</td>\n",
       "      <td>727355</td>\n",
       "      <td>9606</td>\n",
       "      <td>SLC6A4</td>\n",
       "      <td>4061</td>\n",
       "      <td>ClC=1C=C(C2CCCCNC2)C=CC1Cl</td>\n",
       "    </tr>\n",
       "    <tr>\n",
       "      <th>1</th>\n",
       "      <td>CTETYYAZBPJBHE-UHFFFAOYNA-N</td>\n",
       "      <td>CHEMBL1289</td>\n",
       "      <td>6532</td>\n",
       "      <td>A</td>\n",
       "      <td>6.37000</td>\n",
       "      <td>chembl20</td>\n",
       "      <td>774720</td>\n",
       "      <td>9606</td>\n",
       "      <td>SLC6A4</td>\n",
       "      <td>4061</td>\n",
       "      <td>C(#CI)COC=1C=C(Cl)C(=CC1Cl)Cl</td>\n",
       "    </tr>\n",
       "    <tr>\n",
       "      <th>2</th>\n",
       "      <td>FQDRMHHCWZAXJM-UHFFFAOYNA-N</td>\n",
       "      <td>125558</td>\n",
       "      <td>25553</td>\n",
       "      <td>A</td>\n",
       "      <td>9.98297</td>\n",
       "      <td>pubchem</td>\n",
       "      <td>205028</td>\n",
       "      <td>10116</td>\n",
       "      <td>SLC6A4</td>\n",
       "      <td>4061</td>\n",
       "      <td>O1C=2C=C3CC(N)CC3=CC2OC1</td>\n",
       "    </tr>\n",
       "    <tr>\n",
       "      <th>3</th>\n",
       "      <td>QRAWNNQNLQPNIZ-UHFFFAOYNA-N</td>\n",
       "      <td>CHEMBL205229</td>\n",
       "      <td>6532</td>\n",
       "      <td>A</td>\n",
       "      <td>7.54000</td>\n",
       "      <td>chembl20</td>\n",
       "      <td>950695</td>\n",
       "      <td>9606</td>\n",
       "      <td>SLC6A4</td>\n",
       "      <td>4061</td>\n",
       "      <td>N1C=C(CCN)C2=C1C(=CC=C2)F</td>\n",
       "    </tr>\n",
       "    <tr>\n",
       "      <th>4</th>\n",
       "      <td>HCFHWXDIZOAUTQ-UHFFFAOYNA-N</td>\n",
       "      <td>CHEMBL6376</td>\n",
       "      <td>25553</td>\n",
       "      <td>A</td>\n",
       "      <td>6.11000</td>\n",
       "      <td>chembl20</td>\n",
       "      <td>201505</td>\n",
       "      <td>10116</td>\n",
       "      <td>SLC6A4</td>\n",
       "      <td>4061</td>\n",
       "      <td>C1(=CC=2OCOC2C=C1C)CC(N)C</td>\n",
       "    </tr>\n",
       "  </tbody>\n",
       "</table>\n",
       "</div>"
      ],
      "text/plain": [
       "                Ambit_InchiKey Original_Entry_ID  Entrez_ID Activity_Flag  \\\n",
       "0  CWYBNSVSYKQGJB-UHFFFAOYNA-N          71541095       6532             A   \n",
       "1  CTETYYAZBPJBHE-UHFFFAOYNA-N        CHEMBL1289       6532             A   \n",
       "2  FQDRMHHCWZAXJM-UHFFFAOYNA-N            125558      25553             A   \n",
       "3  QRAWNNQNLQPNIZ-UHFFFAOYNA-N      CHEMBL205229       6532             A   \n",
       "4  HCFHWXDIZOAUTQ-UHFFFAOYNA-N        CHEMBL6376      25553             A   \n",
       "\n",
       "     pXC50        DB  Original_Assay_ID  Tax_ID Gene_Symbol  Ortholog_Group  \\\n",
       "0  6.85387   pubchem             727355    9606      SLC6A4            4061   \n",
       "1  6.37000  chembl20             774720    9606      SLC6A4            4061   \n",
       "2  9.98297   pubchem             205028   10116      SLC6A4            4061   \n",
       "3  7.54000  chembl20             950695    9606      SLC6A4            4061   \n",
       "4  6.11000  chembl20             201505   10116      SLC6A4            4061   \n",
       "\n",
       "                          SMILES  \n",
       "0     ClC=1C=C(C2CCCCNC2)C=CC1Cl  \n",
       "1  C(#CI)COC=1C=C(Cl)C(=CC1Cl)Cl  \n",
       "2       O1C=2C=C3CC(N)CC3=CC2OC1  \n",
       "3      N1C=C(CCN)C2=C1C(=CC=C2)F  \n",
       "4      C1(=CC=2OCOC2C=C1C)CC(N)C  "
      ]
     },
     "execution_count": 14,
     "metadata": {},
     "output_type": "execute_result"
    }
   ],
   "source": [
    "import pandas as pd\n",
    "from rdkit import Chem\n",
    "from rdkit.Chem import AllChem, DataStructs\n",
    "from rdkit.Chem import rdFingerprintGenerator\n",
    "\n",
    "# load csv\n",
    "df = pd.read_csv(\"/Users/adelasilarova/Downloads/dataset.csv\")\n",
    "smiles_list = df[\"SMILES\"].dropna().tolist()\n",
    "\n",
    "df.head()\n"
   ]
  },
  {
   "cell_type": "code",
   "execution_count": 17,
   "id": "336557f9-c45c-4f91-89c4-7a60e5fc340e",
   "metadata": {},
   "outputs": [
    {
     "name": "stdout",
     "output_type": "stream",
     "text": [
      "Top 3 Hits:\n",
      "                       SMILES  Tanimoto_Similarity\n",
      "7    C=1(C=CC(=CC1)CCCCCCCC)O             0.166667\n",
      "21  C=1(C=CC(=CC1)CCCCCCCCC)O             0.166667\n",
      "6     O=C(C(NCC)C)C=1C=CC=CC1             0.142857\n"
     ]
    }
   ],
   "source": [
    "# molecular fingerprints\n",
    "morgan_gen = rdFingerprintGenerator.GetMorganGenerator(radius=2, fpSize=2048)\n",
    "\n",
    "molecules = [Chem.MolFromSmiles(smiles) for smiles in smiles_list]\n",
    "fingerprints = [morgan_gen.GetFingerprint(mol) if mol else None for mol in molecules]\n",
    "\n",
    "valid_data = [(smiles, fp) for smiles, fp in zip(smiles_list, fingerprints) if fp is not None]\n",
    "fp_df = pd.DataFrame(valid_data, columns=[\"SMILES\", \"Fingerprint\"])\n",
    "\n",
    "# Tanimoto similarity\n",
    "reference_smiles = \"CCO\" \n",
    "reference_mol = Chem.MolFromSmiles(reference_smiles)\n",
    "reference_fp = morgan_gen.GetFingerprint(reference_mol)\n",
    "\n",
    "def tanimoto_similarity(fp1, fp2):\n",
    "    return DataStructs.TanimotoSimilarity(fp1, fp2)\n",
    "\n",
    "fp_df[\"Tanimoto_Similarity\"] = fp_df[\"Fingerprint\"].apply(lambda fp: tanimoto_similarity(fp, reference_fp))\n",
    "\n",
    "\n",
    "top_hits = fp_df.sort_values(by=\"Tanimoto_Similarity\", ascending=False).head(3)\n",
    "print(\"Top 3 Hits:\")\n",
    "print(top_hits[[\"SMILES\", \"Tanimoto_Similarity\"]])\n"
   ]
  },
  {
   "cell_type": "markdown",
   "id": "2738b5ff-ded6-408c-8153-eac0af5a11f4",
   "metadata": {},
   "source": [
    "## Diskuze\n",
    "\n",
    "Nejvyšší podobnost 0,166667 mají dvě molekuly, konkrétně C=1(C=CC(=CC1)CCCCCCCC)O a C=1(C=CC(=CC1)CCCCCCCCC)O. \n",
    "Třetí nejvyšší podobnost 0.142857 má molekula O=C(C(NCC)C)C=1C=CC=CC1.\n",
    "\n",
    "Nízké hodnoty Tanimoto značí, že žádná z analyzovaných sloučenin není příliš podobná referenční molekule. To může znamenat, že dané molekuly mají jinou základní strukturu nebo že Tanimoto metrika není optimální pro tento dataset. Pro přesnější výsledky by bylo vhodné kombinovat více metod hodnocení podobnosti a zahrnout i experimentální validaci.\n"
   ]
  }
 ],
 "metadata": {
  "kernelspec": {
   "display_name": "Python 3 (ipykernel)",
   "language": "python",
   "name": "python3"
  },
  "language_info": {
   "codemirror_mode": {
    "name": "ipython",
    "version": 3
   },
   "file_extension": ".py",
   "mimetype": "text/x-python",
   "name": "python",
   "nbconvert_exporter": "python",
   "pygments_lexer": "ipython3",
   "version": "3.9.13"
  }
 },
 "nbformat": 4,
 "nbformat_minor": 5
}
