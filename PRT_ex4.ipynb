{
  "cells": [
    {
      "cell_type": "code",
      "execution_count": 19,
      "id": "339d685b",
      "metadata": {
        "id": "339d685b"
      },
      "outputs": [],
      "source": [
        "import numpy as np\n",
        "import cv2\n",
        "import matplotlib.pyplot as plt\n",
        "import random\n",
        "import math"
      ]
    },
    {
      "cell_type": "code",
      "execution_count": 20,
      "id": "51a63184",
      "metadata": {
        "id": "51a63184"
      },
      "outputs": [],
      "source": [
        "maze = np.zeros((500, 500), dtype=np.uint8)\n",
        "cv2.rectangle(maze, (100, 200), (400, 300), 255, -1)\n",
        "cv2.rectangle(maze, (300, 250), (500, 270), 255, -1)  \n",
        "cv2.rectangle(maze, (250, 300), (270, 500), 255, -1)  \n",
        "cv2.rectangle(maze, (100, 230), (0, 160), 255, -1)    \n",
        "\n",
        "obstacles = np.where(maze == 0)"
      ]
    },
    {
      "cell_type": "code",
      "execution_count": 21,
      "id": "VSE2R0HcIghZ",
      "metadata": {
        "id": "VSE2R0HcIghZ"
      },
      "outputs": [],
      "source": [
        "start = (250, 250)"
      ]
    },
    {
      "cell_type": "code",
      "execution_count": 23,
      "id": "IZRQEswwIjSv",
      "metadata": {
        "id": "IZRQEswwIjSv"
      },
      "outputs": [],
      "source": [
        "escape_zones = [\n",
        "    ((490, 250), (500, 270)),  \n",
        "    ((250, 490), (270, 500)), \n",
        "    ((0, 180), (10, 200)),     \n",
        "]\n",
        "\n",
        "escape_targets = [\n",
        "    (495, 260),  \n",
        "    (260, 495),  \n",
        "    (5, 190),    \n",
        "]\n",
        "\n",
        "def draw_map(obstacles):\n",
        "    img = np.ones((500, 500), dtype=np.uint8) * 255\n",
        "    img[obstacles] = 0\n",
        "    plt.imshow(img, cmap='gray')\n",
        "    plt.title(\"Maze with Obstacles\")\n",
        "    plt.show()\n",
        "\n",
        "def in_escape_zone(point, zone):\n",
        "    x, y = point\n",
        "    (x1, y1), (x2, y2) = zone\n",
        "    return x1 <= x <= x2 and y1 <= y <= y2"
      ]
    },
    {
      "cell_type": "code",
      "execution_count": 24,
      "id": "ztflMRybHfab",
      "metadata": {
        "colab": {
          "base_uri": "https://localhost:8080/",
          "height": 452
        },
        "id": "ztflMRybHfab",
        "outputId": "6105681a-37ec-408b-c2b1-445aa5af89a7"
      },
      "outputs": [
        {
          "data": {
            "image/png": "[encoded data removed]",
            "text/plain": [
              "<Figure size 640x480 with 1 Axes>"
            ]
          },
          "metadata": {},
          "output_type": "display_data"
        }
      ],
      "source": [
        "draw_map(obstacles)"
      ]
    },
    {
      "cell_type": "code",
      "execution_count": 25,
      "id": "b3ea2f8c",
      "metadata": {
        "id": "b3ea2f8c"
      },
      "outputs": [],
      "source": [
        "class Node:\n",
        "    def __init__(self, point, parent=None):\n",
        "        self.point = point\n",
        "        self.parent = parent\n",
        "\n",
        "class RRT:\n",
        "    def __init__(self, start, map_img, max_iter=1000, step_size=10):\n",
        "        self.start = Node(start)\n",
        "        self.map = map_img\n",
        "        self.max_iter = max_iter\n",
        "        self.step_size = step_size\n",
        "        self.nodes = [self.start]\n",
        "\n",
        "    def distance(self, p1, p2):\n",
        "        return np.linalg.norm(np.array(p1) - np.array(p2))\n",
        "\n",
        "    def is_free(self, p):\n",
        "        x, y = int(p[0]), int(p[1])\n",
        "        if 0 <= x < self.map.shape[1] and 0 <= y < self.map.shape[0]:\n",
        "            return self.map[y, x] != 0\n",
        "        return False\n",
        "\n",
        "    def get_random_point(self):\n",
        "        return (random.randint(0, self.map.shape[1] - 1), random.randint(0, self.map.shape[0] - 1))\n",
        "\n",
        "    def nearest(self, point):\n",
        "        return min(self.nodes, key=lambda node: self.distance(node.point, point))\n",
        "\n",
        "    def steer(self, from_node, to_point):\n",
        "        vec = np.array(to_point) - np.array(from_node.point)\n",
        "        dist = np.linalg.norm(vec)\n",
        "        if dist == 0:\n",
        "            return from_node.point\n",
        "        direction = vec / dist\n",
        "        new_point = np.array(from_node.point) + self.step_size * direction\n",
        "        return tuple(map(int, new_point))\n",
        "\n",
        "    def run(self, start, goal=None):\n",
        "        self.nodes = [Node(start)]\n",
        "        for i in range(self.max_iter):\n",
        "            rand_point = goal if goal else self.get_random_point()\n",
        "            nearest_node = self.nearest(rand_point)\n",
        "            new_point = self.steer(nearest_node, rand_point)\n",
        "            if self.is_free(new_point):\n",
        "                new_node = Node(new_point, nearest_node)\n",
        "                self.nodes.append(new_node)\n",
        "                if goal and self.distance(new_point, goal) < self.step_size:\n",
        "                    return self.extract_path(new_node)\n",
        "        return self.extract_path(self.nodes[-1])\n",
        "\n",
        "    def extract_path(self, node):\n",
        "        path = []\n",
        "        while node:\n",
        "            path.append(node.point)\n",
        "            node = node.parent\n",
        "        return path[::-1]\n",
        "\n",
        "    def draw(self, path=None, goal=None):\n",
        "        img = cv2.cvtColor(self.map.copy(), cv2.COLOR_GRAY2BGR)\n",
        "\n",
        "        # Kreslení stromu\n",
        "        for node in self.nodes:\n",
        "            if node.parent:\n",
        "                cv2.line(img, node.point, node.parent.point, (200, 200, 200), 1)\n",
        "\n",
        "        # Cíl\n",
        "        if goal:\n",
        "            cv2.circle(img, goal, 5, (0, 0, 255), -1)\n",
        "\n",
        "        # Cesta\n",
        "        if path:\n",
        "            for i in range(len(path) - 1):\n",
        "                cv2.line(img, path[i], path[i + 1], (0, 255, 0), 2)\n",
        "\n",
        "        # Start\n",
        "        cv2.circle(img, self.start.point, 5, (255, 0, 0), -1)\n",
        "\n",
        "        # Zobrazit\n",
        "        plt.figure(figsize=(8, 8))\n",
        "        plt.imshow(cv2.cvtColor(img, cv2.COLOR_BGR2RGB))\n",
        "        plt.title(\"RRT Path Visualization\")\n",
        "        plt.axis(\"off\")\n",
        "        plt.show()"
      ]
    },
    {
      "cell_type": "code",
      "execution_count": 26,
      "id": "6Sr6rIJpHRs0",
      "metadata": {
        "colab": {
          "base_uri": "https://localhost:8080/",
          "height": 1000
        },
        "id": "6Sr6rIJpHRs0",
        "outputId": "33c0f335-baac-45f6-a724-1330cd08d809"
      },
      "outputs": [
        {
          "name": "stdout",
          "output_type": "stream",
          "text": [
            "\n",
            " Test escape zone 1 → cil: (495, 260)\n",
            "Run 1: End point: (493, 259)\n",
            "Detekováno v escape zone 1\n"
          ]
        },
        {
          "data": {
            "image/png": "[encoded data removed]",
            "text/plain": [
              "<Figure size 800x800 with 1 Axes>"
            ]
          },
          "metadata": {},
          "output_type": "display_data"
        },
        {
          "name": "stdout",
          "output_type": "stream",
          "text": [
            "\n",
            " Test escape zone 2 → cil: (260, 495)\n",
            "Run 1: End point: (259, 493)\n",
            "Detekováno v escape zone 2\n"
          ]
        },
        {
          "data": {
            "image/png": "[encoded data removed]",
            "text/plain": [
              "<Figure size 800x800 with 1 Axes>"
            ]
          },
          "metadata": {},
          "output_type": "display_data"
        },
        {
          "name": "stdout",
          "output_type": "stream",
          "text": [
            "\n",
            " Test escape zone 3 → cil: (5, 190)\n",
            "Run 1: End point: (10, 191)\n",
            "Detekováno v escape zone 3\n"
          ]
        },
        {
          "data": {
            "image/png": "[encoded data removed]",
            "text/plain": [
              "<Figure size 800x800 with 1 Axes>"
            ]
          },
          "metadata": {},
          "output_type": "display_data"
        },
        {
          "name": "stdout",
          "output_type": "stream",
          "text": [
            "\n",
            "Výsledek detekce:\n",
            "Escape 1: Nalezeno\n",
            "Escape 2: Nalezeno\n",
            "Escape 3: Nalezeno\n",
            "\n",
            " Vsechny tunely byly detekovany.\n"
          ]
        }
      ],
      "source": [
        "rrt = RRT(start=start, map_img=maze, step_size=10)\n",
        "detected_escapes = [False, False, False]\n",
        "success_count = 0\n",
        "\n",
        "for i, target in enumerate(escape_targets):\n",
        "    print(f\"\\n Test escape zone {i+1} → cil: {target}\")\n",
        "    for run in range(7):\n",
        "        path = rrt.run(start, goal=target)\n",
        "        if path:\n",
        "            end_point = path[-1]\n",
        "            print(f\"Run {run+1}: End point: {end_point}\")\n",
        "            if in_escape_zone(end_point, escape_zones[i]):\n",
        "                print(f\"Detekováno v escape zone {i+1}\")\n",
        "                detected_escapes[i] = True\n",
        "                success_count += 1\n",
        "                rrt.draw(path=path, goal=target)\n",
        "                break\n",
        "\n",
        "print(\"\\nVýsledek detekce:\")\n",
        "for i, detected in enumerate(detected_escapes):\n",
        "    print(f\"Escape {i+1}: {'Nalezeno' if detected else 'Nenalezen'}\")\n",
        "\n",
        "if all(detected_escapes):\n",
        "    print(\"\\n Vsechny tunely byly detekovany.\")\n",
        "else:\n",
        "    print(\"\\n Nektere tunely nebyly nalezeny.\")"
      ]
    }
  ],
  "metadata": {
    "colab": {
      "provenance": []
    },
    "kernelspec": {
      "display_name": "Python 3",
      "name": "python3"
    },
    "language_info": {
      "name": "python"
    }
  },
  "nbformat": 4,
  "nbformat_minor": 5
}
